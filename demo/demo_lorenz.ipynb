{
 "cells": [
  {
   "cell_type": "markdown",
   "metadata": {},
   "source": [
    "\"\"\"\n",
    "An example to demonstrate online control of lorenz system\n",
    "\n",
    "Authors: \n",
    "Hao Zhang\n",
    "\n",
    "References:\n",
    "Zhang, Hao, Clarence W. Rowley, Eric A. Deem, and Louis N. Cattafesta.\n",
    "\"Online dynamic mode decomposition for time-varying systems.\"\n",
    "SIAM Journal on Applied Dynamical Systems 18, no. 3 (2019): 1586-1609.\n",
    "\n",
    "Created:\n",
    "June 2017.\n",
    "\"\"\""
   ]
  },
  {
   "cell_type": "code",
   "execution_count": 1,
   "metadata": {
    "ExecuteTime": {
     "end_time": "2022-10-20T22:54:06.411809Z",
     "start_time": "2022-10-20T22:54:06.248173Z"
    }
   },
   "outputs": [
    {
     "name": "stdout",
     "output_type": "stream",
     "text": [
      "/Users/haozhang/python-venvs/oml-reorg/bin/python: Mach-O 64-bit executable x86_64\r\n"
     ]
    }
   ],
   "source": [
    "!file $(which python)"
   ]
  },
  {
   "cell_type": "code",
   "execution_count": 2,
   "metadata": {
    "ExecuteTime": {
     "end_time": "2022-10-20T22:54:06.749849Z",
     "start_time": "2022-10-20T22:54:06.600938Z"
    }
   },
   "outputs": [
    {
     "name": "stdout",
     "output_type": "stream",
     "text": [
      "Python 3.8.5\r\n"
     ]
    }
   ],
   "source": [
    "!python --version"
   ]
  },
  {
   "cell_type": "code",
   "execution_count": 6,
   "metadata": {
    "ExecuteTime": {
     "end_time": "2022-10-20T22:54:29.821587Z",
     "start_time": "2022-10-20T22:54:28.647668Z"
    }
   },
   "outputs": [],
   "source": [
    "!python -m pip install -Uqqq pip setuptools wheel"
   ]
  },
  {
   "cell_type": "code",
   "execution_count": 7,
   "metadata": {
    "ExecuteTime": {
     "end_time": "2022-10-20T22:54:29.963607Z",
     "start_time": "2022-10-20T22:54:29.829432Z"
    }
   },
   "outputs": [
    {
     "name": "stdout",
     "output_type": "stream",
     "text": [
      "README.md                             demo_lorenz.ipynb\r\n",
      "demo_linear_time_varying_system.ipynb requirements.txt\r\n"
     ]
    }
   ],
   "source": [
    "!ls"
   ]
  },
  {
   "cell_type": "code",
   "execution_count": 8,
   "metadata": {
    "ExecuteTime": {
     "end_time": "2022-10-20T22:54:30.103061Z",
     "start_time": "2022-10-20T22:54:29.971794Z"
    }
   },
   "outputs": [
    {
     "name": "stdout",
     "output_type": "stream",
     "text": [
      "ai4sci.oml\r\n",
      "numpy\r\n",
      "scipy\r\n",
      "matplotlib\r\n",
      "control\r\n",
      "slycot"
     ]
    }
   ],
   "source": [
    "!cat requirements.txt"
   ]
  },
  {
   "cell_type": "code",
   "execution_count": 9,
   "metadata": {
    "ExecuteTime": {
     "end_time": "2022-10-20T22:54:31.074287Z",
     "start_time": "2022-10-20T22:54:30.329666Z"
    }
   },
   "outputs": [
    {
     "name": "stdout",
     "output_type": "stream",
     "text": [
      "Requirement already satisfied: ai4sci.oml in /Users/haozhang/Local/open-source/oml (from -r requirements.txt (line 1)) (0.2.2)\n",
      "Requirement already satisfied: numpy in /Users/haozhang/python-venvs/oml-reorg/lib/python3.8/site-packages (from -r requirements.txt (line 2)) (1.23.4)\n",
      "Requirement already satisfied: scipy in /Users/haozhang/python-venvs/oml-reorg/lib/python3.8/site-packages (from -r requirements.txt (line 3)) (1.9.3)\n",
      "Requirement already satisfied: matplotlib in /Users/haozhang/python-venvs/oml-reorg/lib/python3.8/site-packages (from -r requirements.txt (line 4)) (3.6.1)\n",
      "Requirement already satisfied: control in /Users/haozhang/python-venvs/oml-reorg/lib/python3.8/site-packages (from -r requirements.txt (line 5)) (0.9.2)\n",
      "Requirement already satisfied: slycot in /Users/haozhang/python-venvs/oml-reorg/lib/python3.8/site-packages (from -r requirements.txt (line 6)) (0.5.0)\n",
      "Requirement already satisfied: fonttools>=4.22.0 in /Users/haozhang/python-venvs/oml-reorg/lib/python3.8/site-packages (from matplotlib->-r requirements.txt (line 4)) (4.37.4)\n",
      "Requirement already satisfied: cycler>=0.10 in /Users/haozhang/python-venvs/oml-reorg/lib/python3.8/site-packages (from matplotlib->-r requirements.txt (line 4)) (0.11.0)\n",
      "Requirement already satisfied: python-dateutil>=2.7 in /Users/haozhang/python-venvs/oml-reorg/lib/python3.8/site-packages (from matplotlib->-r requirements.txt (line 4)) (2.8.2)\n",
      "Requirement already satisfied: pyparsing>=2.2.1 in /Users/haozhang/python-venvs/oml-reorg/lib/python3.8/site-packages (from matplotlib->-r requirements.txt (line 4)) (3.0.9)\n",
      "Requirement already satisfied: contourpy>=1.0.1 in /Users/haozhang/python-venvs/oml-reorg/lib/python3.8/site-packages (from matplotlib->-r requirements.txt (line 4)) (1.0.5)\n",
      "Requirement already satisfied: packaging>=20.0 in /Users/haozhang/python-venvs/oml-reorg/lib/python3.8/site-packages (from matplotlib->-r requirements.txt (line 4)) (21.3)\n",
      "Requirement already satisfied: kiwisolver>=1.0.1 in /Users/haozhang/python-venvs/oml-reorg/lib/python3.8/site-packages (from matplotlib->-r requirements.txt (line 4)) (1.4.4)\n",
      "Requirement already satisfied: pillow>=6.2.0 in /Users/haozhang/python-venvs/oml-reorg/lib/python3.8/site-packages (from matplotlib->-r requirements.txt (line 4)) (9.2.0)\n",
      "Requirement already satisfied: six>=1.5 in /Users/haozhang/python-venvs/oml-reorg/lib/python3.8/site-packages (from python-dateutil>=2.7->matplotlib->-r requirements.txt (line 4)) (1.16.0)\n"
     ]
    }
   ],
   "source": [
    "!python -m pip install -r requirements.txt"
   ]
  },
  {
   "cell_type": "code",
   "execution_count": 10,
   "metadata": {
    "ExecuteTime": {
     "end_time": "2022-10-20T22:54:31.965529Z",
     "start_time": "2022-10-20T22:54:31.352735Z"
    }
   },
   "outputs": [
    {
     "name": "stdout",
     "output_type": "stream",
     "text": [
      "ai4sci.oml         0.2.2     /Users/haozhang/Local/open-source/oml\r\n"
     ]
    }
   ],
   "source": [
    "!pip list | grep ai4sci.oml"
   ]
  },
  {
   "cell_type": "markdown",
   "metadata": {},
   "source": [
    "Uncontrolled system simulation\n",
    "-  classical butterfly trajectory"
   ]
  },
  {
   "cell_type": "code",
   "execution_count": 11,
   "metadata": {
    "ExecuteTime": {
     "end_time": "2022-10-20T22:54:38.652620Z",
     "start_time": "2022-10-20T22:54:38.373461Z"
    }
   },
   "outputs": [
    {
     "ename": "ModuleNotFoundError",
     "evalue": "No module named 'ai4sci'",
     "output_type": "error",
     "traceback": [
      "\u001b[0;31m---------------------------------------------------------------------------\u001b[0m",
      "\u001b[0;31mModuleNotFoundError\u001b[0m                       Traceback (most recent call last)",
      "\u001b[0;32m<ipython-input-11-521fce5f2702>\u001b[0m in \u001b[0;36m<module>\u001b[0;34m\u001b[0m\n\u001b[1;32m     17\u001b[0m \u001b[0;32mimport\u001b[0m \u001b[0mmatplotlib\u001b[0m\u001b[0;34m.\u001b[0m\u001b[0mpyplot\u001b[0m \u001b[0;32mas\u001b[0m \u001b[0mplt\u001b[0m\u001b[0;34m\u001b[0m\u001b[0;34m\u001b[0m\u001b[0m\n\u001b[1;32m     18\u001b[0m \u001b[0;32mimport\u001b[0m \u001b[0mnumpy\u001b[0m \u001b[0;32mas\u001b[0m \u001b[0mnp\u001b[0m\u001b[0;34m\u001b[0m\u001b[0;34m\u001b[0m\u001b[0m\n\u001b[0;32m---> 19\u001b[0;31m \u001b[0;32mfrom\u001b[0m \u001b[0mai4sci\u001b[0m\u001b[0;34m.\u001b[0m\u001b[0moml\u001b[0m \u001b[0;32mimport\u001b[0m \u001b[0mOnlineLinearModel\u001b[0m\u001b[0;34m\u001b[0m\u001b[0;34m\u001b[0m\u001b[0m\n\u001b[0m\u001b[1;32m     20\u001b[0m \u001b[0;32mfrom\u001b[0m \u001b[0mcontrol\u001b[0m \u001b[0;32mimport\u001b[0m \u001b[0mlqr\u001b[0m\u001b[0;34m,\u001b[0m \u001b[0mStateSpace\u001b[0m\u001b[0;34m,\u001b[0m \u001b[0mctrb\u001b[0m\u001b[0;34m\u001b[0m\u001b[0;34m\u001b[0m\u001b[0m\n\u001b[1;32m     21\u001b[0m \u001b[0;34m\u001b[0m\u001b[0m\n",
      "\u001b[0;31mModuleNotFoundError\u001b[0m: No module named 'ai4sci'"
     ]
    }
   ],
   "source": [
    "\"\"\"\n",
    "An example to demonstrate online control of lorenz system\n",
    "\n",
    "Authors: \n",
    "Hao Zhang\n",
    "\n",
    "References:\n",
    "Zhang, Hao, Clarence W. Rowley, Eric A. Deem, and Louis N. Cattafesta.\n",
    "\"Online dynamic mode decomposition for time-varying systems.\"\n",
    "SIAM Journal on Applied Dynamical Systems 18, no. 3 (2019): 1586-1609.\n",
    "\n",
    "Created:\n",
    "June 2017.\n",
    "\"\"\"\n",
    "\n",
    "import random\n",
    "import matplotlib.pyplot as plt\n",
    "import numpy as np\n",
    "from ai4sci.oml import OnlineLinearModel\n",
    "from control import lqr, StateSpace, ctrb\n",
    "\n",
    "random.seed(20210220)\n",
    "np.random.seed(20210220)\n",
    "\n",
    "# define dynamics\n",
    "# https://en.wikipedia.org/wiki/Lorenz_system\n",
    "# Lorenz\n",
    "n = 3 # state dimension\n",
    "k = 3 # input dimension\n",
    "# output = state (full state observation)\n",
    "sigma = 10\n",
    "beta = 8.0 / 3.0\n",
    "rho = 28\n",
    "def dyn(x, u):\n",
    "    assert x.shape == (n,)\n",
    "    assert u.shape == (k,)\n",
    "    f = np.zeros(n) # dx/dt = f(x, u)\n",
    "    f[0] = sigma * (x[1] - x[0]) + u[0]\n",
    "    f[1] = x[0] * (rho - x[2]) - x[1] + u[1]\n",
    "    f[2] = x[0] * x[1] - beta * x[2] + u[2]\n",
    "    return f\n",
    "\n",
    "# fixed point (unstable)\n",
    "phi = np.sqrt(beta * (rho - 1))\n",
    "xf1 = np.array([phi, phi, rho - 1])\n",
    "xf2 = np.array([-phi, -phi, rho - 1])\n",
    "xf3 = np.array([0, 0, 0])\n",
    "\n",
    "# set up simulation parameter\n",
    "dt = 0.01\n",
    "tmax, tc = 40, 0.4\n",
    "T, kc = int(tmax / dt), int(tc / dt)\n",
    "tspan = np.linspace(0, tmax, T + 1)\n",
    "\n",
    "# online linear system identification setup\n",
    "alpha = 0.01 ** (1.0 / kc) # 99% decay after kc samples\n",
    "olm = OnlineLinearModel(n, k, None, alpha)\n",
    "\n",
    "# store data mtrices\n",
    "x = np.zeros([n, T])\n",
    "u = np.zeros([k, T])\n",
    "\n",
    "# initial condition, state and control\n",
    "x0 = np.array([1, 1, 1])\n",
    "u0 = np.array([0, 0, 0])\n",
    "\n",
    "# initial condition\n",
    "x[:, 0] = x0\n",
    "u[:, 0] = u0\n",
    "\n",
    "# uncontrolled system simulation\n",
    "for t in range(1, T):\n",
    "    # forward the system for one step\n",
    "    x[:, t] = x[:, t - 1] + dt * dyn(x[:, t - 1], u[:, t - 1])\n",
    "    u[:, t] = 0\n",
    "\n",
    "\n",
    "def plot_state(x):\n",
    "    plt.rcParams['figure.dpi'] = 100\n",
    "    fig = plt.figure(figsize=(6, 6))\n",
    "    ax = fig.gca(projection=\"3d\")\n",
    "    ax.plot(x[0, :], x[1, :], x[2, :])\n",
    "    plt.title(\"State\")\n",
    "    plt.draw()\n",
    "    plt.grid()\n",
    "    plt.show()\n",
    "\n",
    "\n",
    "def plot_control(u):\n",
    "    plt.rcParams['figure.dpi'] = 100\n",
    "    fig, axs = plt.subplots(3, figsize=(6, 6))\n",
    "\n",
    "    axs[0].plot(tspan[1:], u[0, :], \"r-\", linewidth=1.0, label=\"$u_1(t)$\")\n",
    "    axs[0].legend(loc=\"best\", fontsize=12, shadow=True)\n",
    "    axs[0].grid()\n",
    "    axs[0].set_title(\"Control\")\n",
    "\n",
    "    axs[1].plot(tspan[1:], u[1, :], \"g-\", linewidth=1.0, label=\"$u_2(t)$\")\n",
    "    axs[1].legend(loc=\"best\", fontsize=12, shadow=True)\n",
    "    axs[1].grid()\n",
    "\n",
    "    axs[2].plot(tspan[1:], u[2, :], \"b-\", linewidth=1.0, label=\"$u_3(t)$\")\n",
    "    axs[2].legend(loc=\"best\", fontsize=12, shadow=True)\n",
    "    axs[2].grid()\n",
    "\n",
    "    axs[2].set_xlabel(\"Time\", fontsize=12)\n",
    "\n",
    "\n",
    "# plot state and control\n",
    "plot_state(x)\n",
    "plot_control(u)"
   ]
  },
  {
   "cell_type": "markdown",
   "metadata": {},
   "source": [
    "Controlled system simulation\n",
    "- Purely data-driven\n",
    "- Real-time model learning\n",
    "- Adaptive to new data\n",
    "- Closed loop control\n",
    "- Stabilizes system at unstable fixed point"
   ]
  },
  {
   "cell_type": "code",
   "execution_count": 12,
   "metadata": {
    "ExecuteTime": {
     "end_time": "2022-10-20T22:54:41.577450Z",
     "start_time": "2022-10-20T22:54:41.521448Z"
    }
   },
   "outputs": [
    {
     "ename": "NameError",
     "evalue": "name 'x0' is not defined",
     "output_type": "error",
     "traceback": [
      "\u001b[0;31m---------------------------------------------------------------------------\u001b[0m",
      "\u001b[0;31mNameError\u001b[0m                                 Traceback (most recent call last)",
      "\u001b[0;32m<ipython-input-12-af7a4e828120>\u001b[0m in \u001b[0;36m<module>\u001b[0;34m\u001b[0m\n\u001b[1;32m      4\u001b[0m \u001b[0;34m\u001b[0m\u001b[0m\n\u001b[1;32m      5\u001b[0m \u001b[0;31m# initial condition, state and control\u001b[0m\u001b[0;34m\u001b[0m\u001b[0;34m\u001b[0m\u001b[0;34m\u001b[0m\u001b[0m\n\u001b[0;32m----> 6\u001b[0;31m \u001b[0mx\u001b[0m\u001b[0;34m[\u001b[0m\u001b[0;34m:\u001b[0m\u001b[0;34m,\u001b[0m \u001b[0;36m0\u001b[0m\u001b[0;34m]\u001b[0m \u001b[0;34m=\u001b[0m \u001b[0mx0\u001b[0m\u001b[0;34m\u001b[0m\u001b[0;34m\u001b[0m\u001b[0m\n\u001b[0m\u001b[1;32m      7\u001b[0m \u001b[0mu\u001b[0m\u001b[0;34m[\u001b[0m\u001b[0;34m:\u001b[0m\u001b[0;34m,\u001b[0m \u001b[0;36m0\u001b[0m\u001b[0;34m]\u001b[0m \u001b[0;34m=\u001b[0m \u001b[0mu0\u001b[0m\u001b[0;34m\u001b[0m\u001b[0;34m\u001b[0m\u001b[0m\n\u001b[1;32m      8\u001b[0m \u001b[0;34m\u001b[0m\u001b[0m\n",
      "\u001b[0;31mNameError\u001b[0m: name 'x0' is not defined"
     ]
    }
   ],
   "source": [
    "# controlled system simulation\n",
    "# we want to stabilize system at fixed point xf1\n",
    "# need to shift state by -xf1\n",
    "\n",
    "# initial condition, state and control\n",
    "x[:, 0] = x0\n",
    "u[:, 0] = u0\n",
    "\n",
    "# control system simulation\n",
    "for t in range(1, T):\n",
    "    # forward the system for one step\n",
    "    x[:, t] = x[:, t - 1] + dt * dyn(x[:, t - 1], u[:, t - 1])\n",
    "    # use new measurement to update online system identification\n",
    "    # try stabilize at xf1, shift state by -xf1\n",
    "    olm.update(x[:, t - 1] - xf1, u[:, t - 1], x[:, t] - xf1)\n",
    "    # apply control if we have collected enough data\n",
    "    if t > 4 * max(n, n + k):\n",
    "        # convert to continuous representation\n",
    "        Ac = (olm.A - np.eye(n)) / dt\n",
    "        Bc = olm.B / dt\n",
    "        # get LQR gain, output = state\n",
    "        sys = StateSpace(Ac, Bc, np.eye(n), np.zeros((n, k)), dt=0)\n",
    "        K, S, E = lqr(sys, 2 * np.eye(n), np.eye(k))\n",
    "        # apply control\n",
    "        u[:, t] = -1.0 * K.dot(x[:, t] - xf1)\n",
    "        # clip control\n",
    "        u[:, t] = np.clip(u[:, t], -10, 10)\n",
    "        # smooth control\n",
    "        w = 0.5\n",
    "        u[:, t] = (1 - w) * u[:, t - 1] + w * u[:, t]\n",
    "        # show progress\n",
    "        if t % 1000 == 0:\n",
    "            print(f\"t={t * dt}\")\n",
    "            print(f\"x(t)={x[:, t]}\")\n",
    "            print(f\"xf1={xf1}\")\n",
    "            print(f\"u(t)={u[:, t]}\")\n",
    "            print(f\"Ac={Ac}\")\n",
    "            print(f\"Bc={Bc}\")\n",
    "            print(f\"K={K}\\n\")\n",
    "    # random small perturbation if not enough data yet\n",
    "    else:\n",
    "        u[:, t] = 1e-1 * np.random.randn(k)\n",
    "\n",
    "plot_state(x)\n",
    "plot_control(u)\n",
    "assert np.linalg.norm(x[:, -1] - xf1) < 1e-1"
   ]
  },
  {
   "cell_type": "code",
   "execution_count": null,
   "metadata": {},
   "outputs": [],
   "source": []
  }
 ],
 "metadata": {
  "kernelspec": {
   "display_name": "Python 3",
   "language": "python",
   "name": "python3"
  },
  "language_info": {
   "codemirror_mode": {
    "name": "ipython",
    "version": 3
   },
   "file_extension": ".py",
   "mimetype": "text/x-python",
   "name": "python",
   "nbconvert_exporter": "python",
   "pygments_lexer": "ipython3",
   "version": "3.8.5"
  },
  "toc": {
   "base_numbering": 1,
   "nav_menu": {},
   "number_sections": true,
   "sideBar": true,
   "skip_h1_title": false,
   "title_cell": "Table of Contents",
   "title_sidebar": "Contents",
   "toc_cell": false,
   "toc_position": {},
   "toc_section_display": true,
   "toc_window_display": false
  },
  "varInspector": {
   "cols": {
    "lenName": 16,
    "lenType": 16,
    "lenVar": 40
   },
   "kernels_config": {
    "python": {
     "delete_cmd_postfix": "",
     "delete_cmd_prefix": "del ",
     "library": "var_list.py",
     "varRefreshCmd": "print(var_dic_list())"
    },
    "r": {
     "delete_cmd_postfix": ") ",
     "delete_cmd_prefix": "rm(",
     "library": "var_list.r",
     "varRefreshCmd": "cat(var_dic_list()) "
    }
   },
   "types_to_exclude": [
    "module",
    "function",
    "builtin_function_or_method",
    "instance",
    "_Feature"
   ],
   "window_display": false
  }
 },
 "nbformat": 4,
 "nbformat_minor": 4
}
