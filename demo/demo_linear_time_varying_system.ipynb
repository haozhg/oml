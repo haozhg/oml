{
 "cells": [
  {
   "cell_type": "markdown",
   "metadata": {},
   "source": [
    "\"\"\"\n",
    "An example to demonstrate online linear system identification\n",
    "\n",
    "We demonstrate the use of OnlineLinearModel class with a simple linear system.\n",
    "Take a 2D time-varying system dx/dt=A(t)x(t)+B(t)u(t), where A(t) and B(t)\n",
    "are slowly varying with time. In particular, we take A(t)=(1+eps\\*t)\\*A,\n",
    "B(t)=(1+eps\\*t)\\*B, and eps = 0.1 is small. It is discretize with\n",
    "time step dt = 0.1. Denote the discrete system as x(k+1)=A(k)x(k)+\n",
    "B(k)u(k).\n",
    "\n",
    "At time step t+1, we need to include new snapshot pair x(t), u(t), x(t+1).\n",
    "We would like to update the adaptive model in real-time\n",
    "\n",
    "Authors: \n",
    "Hao Zhang\n",
    "\n",
    "References:\n",
    "Zhang, Hao, Clarence W. Rowley, Eric A. Deem, and Louis N. Cattafesta.\n",
    "\"Online dynamic mode decomposition for time-varying systems.\"\n",
    "SIAM Journal on Applied Dynamical Systems 18, no. 3 (2019): 1586-1609.\n",
    "\n",
    "Created:\n",
    "June 2017.\n",
    "\"\"\""
   ]
  },
  {
   "cell_type": "code",
   "execution_count": 1,
   "metadata": {
    "ExecuteTime": {
     "end_time": "2022-10-20T22:29:40.080891Z",
     "start_time": "2022-10-20T22:29:39.911097Z"
    }
   },
   "outputs": [
    {
     "name": "stdout",
     "output_type": "stream",
     "text": [
      "/Users/haozhang/python-venvs/oml-reorg/bin/python: Mach-O 64-bit executable x86_64\r\n"
     ]
    }
   ],
   "source": [
    "!file $(which python)"
   ]
  },
  {
   "cell_type": "code",
   "execution_count": 2,
   "metadata": {
    "ExecuteTime": {
     "end_time": "2022-10-20T22:29:41.044369Z",
     "start_time": "2022-10-20T22:29:40.886078Z"
    }
   },
   "outputs": [
    {
     "name": "stdout",
     "output_type": "stream",
     "text": [
      "Python 3.8.5\r\n"
     ]
    }
   ],
   "source": [
    "!python --version"
   ]
  },
  {
   "cell_type": "code",
   "execution_count": 3,
   "metadata": {
    "ExecuteTime": {
     "end_time": "2022-10-20T22:29:44.347104Z",
     "start_time": "2022-10-20T22:29:43.099218Z"
    }
   },
   "outputs": [],
   "source": [
    "!python -m pip install -Uqqq pip setuptools wheel"
   ]
  },
  {
   "cell_type": "code",
   "execution_count": 4,
   "metadata": {
    "ExecuteTime": {
     "end_time": "2022-10-20T17:33:19.881424Z",
     "start_time": "2022-10-20T17:29:33.034428Z"
    }
   },
   "outputs": [
    {
     "name": "stdout",
     "output_type": "stream",
     "text": [
      "Requirement already satisfied: ai4sci.oml in /Users/haozhang/Local/open-source/oml (from -r requirements.txt (line 1)) (0.2.0)\n",
      "Requirement already satisfied: numpy in /Users/haozhang/python-venvs/oml/lib/python3.8/site-packages (from -r requirements.txt (line 2)) (1.23.4)\n",
      "Requirement already satisfied: scipy in /Users/haozhang/python-venvs/oml/lib/python3.8/site-packages (from -r requirements.txt (line 3)) (1.9.3)\n",
      "Requirement already satisfied: matplotlib in /Users/haozhang/python-venvs/oml/lib/python3.8/site-packages (from -r requirements.txt (line 4)) (3.6.1)\n",
      "Requirement already satisfied: control in /Users/haozhang/python-venvs/oml/lib/python3.8/site-packages (from -r requirements.txt (line 5)) (0.9.2)\n",
      "Collecting slycot\n",
      "  Using cached slycot-0.5.0.0.tar.gz (3.0 MB)\n",
      "  Installing build dependencies ... \u001b[?25ldone\n",
      "\u001b[?25h  Getting requirements to build wheel ... \u001b[?25ldone\n",
      "\u001b[?25h  Preparing metadata (pyproject.toml) ... \u001b[?25ldone\n",
      "\u001b[?25hRequirement already satisfied: python-dateutil>=2.7 in /Users/haozhang/python-venvs/oml/lib/python3.8/site-packages (from matplotlib->-r requirements.txt (line 4)) (2.8.2)\n",
      "Requirement already satisfied: kiwisolver>=1.0.1 in /Users/haozhang/python-venvs/oml/lib/python3.8/site-packages (from matplotlib->-r requirements.txt (line 4)) (1.4.4)\n",
      "Requirement already satisfied: packaging>=20.0 in /Users/haozhang/python-venvs/oml/lib/python3.8/site-packages (from matplotlib->-r requirements.txt (line 4)) (21.3)\n",
      "Requirement already satisfied: pyparsing>=2.2.1 in /Users/haozhang/python-venvs/oml/lib/python3.8/site-packages (from matplotlib->-r requirements.txt (line 4)) (3.0.9)\n",
      "Requirement already satisfied: fonttools>=4.22.0 in /Users/haozhang/python-venvs/oml/lib/python3.8/site-packages (from matplotlib->-r requirements.txt (line 4)) (4.37.4)\n",
      "Requirement already satisfied: cycler>=0.10 in /Users/haozhang/python-venvs/oml/lib/python3.8/site-packages (from matplotlib->-r requirements.txt (line 4)) (0.11.0)\n",
      "Requirement already satisfied: pillow>=6.2.0 in /Users/haozhang/python-venvs/oml/lib/python3.8/site-packages (from matplotlib->-r requirements.txt (line 4)) (9.2.0)\n",
      "Requirement already satisfied: contourpy>=1.0.1 in /Users/haozhang/python-venvs/oml/lib/python3.8/site-packages (from matplotlib->-r requirements.txt (line 4)) (1.0.5)\n",
      "Requirement already satisfied: six>=1.5 in /Users/haozhang/python-venvs/oml/lib/python3.8/site-packages (from python-dateutil>=2.7->matplotlib->-r requirements.txt (line 4)) (1.16.0)\n",
      "Building wheels for collected packages: slycot\n",
      "  Building wheel for slycot (pyproject.toml) ... \u001b[?25ldone\n",
      "\u001b[?25h  Created wheel for slycot: filename=slycot-0.5.0-cp38-cp38-macosx_10_16_x86_64.whl size=1939812 sha256=ca8836f22bcc30130238c8047de452c9deb906e3b7ac9a054127dfe36e7af79d\n",
      "  Stored in directory: /Users/haozhang/Library/Caches/pip/wheels/b4/39/2a/32ae2ed2c02ec0e386de63474126746edf2c83b632b9d2ad44\n",
      "Successfully built slycot\n",
      "Installing collected packages: slycot\n",
      "Successfully installed slycot-0.5.0\n"
     ]
    }
   ],
   "source": [
    "!python -m pip install -r requirements.txt"
   ]
  },
  {
   "cell_type": "code",
   "execution_count": 5,
   "metadata": {
    "ExecuteTime": {
     "end_time": "2022-10-20T17:33:20.433858Z",
     "start_time": "2022-10-20T17:33:19.884051Z"
    }
   },
   "outputs": [
    {
     "name": "stdout",
     "output_type": "stream",
     "text": [
      "Package            Version   Editable project location\n",
      "------------------ --------- -------------------------------------\n",
      "ai4sci.oml           0.2.0     /Users/haozhang/Local/open-source/oml\n",
      "attrs              22.1.0\n",
      "bleach             5.0.1\n",
      "build              0.8.0\n",
      "certifi            2022.9.24\n",
      "charset-normalizer 2.1.1\n",
      "commonmark         0.9.1\n",
      "contourpy          1.0.5\n",
      "control            0.9.2\n",
      "cycler             0.11.0\n",
      "docutils           0.19\n",
      "fonttools          4.37.4\n",
      "idna               3.4\n",
      "importlib-metadata 5.0.0\n",
      "iniconfig          1.1.1\n",
      "jaraco.classes     3.2.3\n",
      "keyring            23.9.3\n",
      "kiwisolver         1.4.4\n",
      "matplotlib         3.6.1\n",
      "more-itertools     9.0.0\n",
      "numpy              1.23.4\n",
      "oml                0.2.0\n",
      "packaging          21.3\n",
      "pep517             0.13.0\n",
      "Pillow             9.2.0\n",
      "pip                22.3\n",
      "pkginfo            1.8.3\n",
      "pluggy             1.0.0\n",
      "py                 1.11.0\n",
      "Pygments           2.13.0\n",
      "pyparsing          3.0.9\n",
      "pytest             7.1.3\n",
      "python-dateutil    2.8.2\n",
      "readme-renderer    37.2\n",
      "requests           2.28.1\n",
      "requests-toolbelt  0.10.0\n",
      "rfc3986            2.0.0\n",
      "rich               12.6.0\n",
      "scipy              1.9.3\n",
      "setuptools         65.5.0\n",
      "six                1.16.0\n",
      "slycot             0.5.0\n",
      "tomli              2.0.1\n",
      "twine              4.0.1\n",
      "typing_extensions  4.4.0\n",
      "urllib3            1.26.12\n",
      "webencodings       0.5.1\n",
      "wheel              0.37.1\n",
      "zipp               3.9.0\n"
     ]
    }
   ],
   "source": [
    "!pip list"
   ]
  },
  {
   "cell_type": "code",
   "execution_count": 6,
   "metadata": {
    "ExecuteTime": {
     "end_time": "2022-10-20T17:33:21.225401Z",
     "start_time": "2022-10-20T17:33:20.439915Z"
    }
   },
   "outputs": [
    {
     "name": "stdout",
     "output_type": "stream",
     "text": [
      "open loop poles: [0.1+0.99498744j 0.1-0.99498744j]\n"
     ]
    },
    {
     "data": {
      "image/png": "[encoded data removed]",
      "text/plain": [
       "<Figure size 1000x600 with 2 Axes>"
      ]
     },
     "metadata": {
      "needs_background": "light"
     },
     "output_type": "display_data"
    }
   ],
   "source": [
    "\"\"\"\n",
    "An example to demonstrate online linear system identification\n",
    "\n",
    "We demonstrate the use of OnlineLinearModel class with a simple linear system.\n",
    "Take a 2D time-varying system dx/dt=A(t)x(t)+B(t)u(t), where A(t) and B(t)\n",
    "are slowly varying with time. In particular, we take A(t)=(1+eps*t)*A,\n",
    "B(t)=(1+eps*t)*B, and eps = 0.1 is small. It is discretize with\n",
    "time step dt = 0.02. Denote the discrete system as x(k+1)=A(k)x(k)+\n",
    "B(k)u(k).\n",
    "\n",
    "At time step k+1, we need to include new snapshot pair x(k), u(k), x(k+1).\n",
    "We would like to update the adaptive model in real-time\n",
    "\n",
    "Authors: \n",
    "Hao Zhang\n",
    "\n",
    "References:\n",
    "Zhang, Hao, Clarence W. Rowley, Eric A. Deem, and Louis N. Cattafesta.\n",
    "\"Online dynamic mode decomposition for time-varying systems.\"\n",
    "SIAM Journal on Applied Dynamical Systems 18, no. 3 (2019): 1586-1609.\n",
    "\n",
    "Created:\n",
    "June 2017.\n",
    "\"\"\"\n",
    "\n",
    "import random\n",
    "import matplotlib.pyplot as plt\n",
    "import numpy as np\n",
    "from oml import OnlineLinearModel\n",
    "from control import lqr, StateSpace, ctrb\n",
    "\n",
    "random.seed(20210220)\n",
    "np.random.seed(20210220)\n",
    "\n",
    "\n",
    "# define dynamics, negative damping -> unstable\n",
    "# https://en.wikipedia.org/wiki/Harmonic_oscillator#Damped_harmonic_oscillator\n",
    "n = 2 # state dimension\n",
    "k = 1 # control dimension\n",
    "A = np.array([[0, 1], [-1, 0.2]])\n",
    "B = np.array([[0], [1]])\n",
    "C = np.eye(n)\n",
    "D = np.zeros((n, k))\n",
    "\n",
    "# check poles\n",
    "sys = StateSpace(A, B, np.eye(n), np.zeros((n, k)))\n",
    "print(f\"open loop poles: {sys.pole()}\")\n",
    "\n",
    "# check controllability\n",
    "Ctrb = ctrb(A, B)\n",
    "assert np.linalg.matrix_rank(Ctrb) == n\n",
    "\n",
    "# slowly time-varying dynamics\n",
    "def dyn(t, x, u, epsilon=1e-3):\n",
    "    At = (1 + epsilon * t) * A\n",
    "    Bt = (1 + epsilon * t) * B\n",
    "    dxdt = At.dot(x) + Bt.dot(u)\n",
    "    return dxdt\n",
    "\n",
    "# set up simulation parameter\n",
    "dt = 0.02\n",
    "tmax, tc = 20, 0.5\n",
    "T, kc = int(tmax / dt), int(tc / dt)\n",
    "tspan = np.linspace(0, tmax, T + 1)\n",
    "\n",
    "# online linear system identification setup\n",
    "alpha = 0.01 ** (1.0 / kc) # 99% decay after kc samples\n",
    "olm = OnlineLinearModel(n, k, None, alpha)\n",
    "\n",
    "# store data mtrices\n",
    "x = np.zeros([n, T])\n",
    "u = np.zeros([k, T])\n",
    "\n",
    "# initial condition, state and control\n",
    "x0 = np.array([1, 0])\n",
    "u0 = 0\n",
    "\n",
    "# uncontrolled system\n",
    "x[:, 0] = x0\n",
    "u[:, 0] = u0\n",
    "for t in range(1, T):\n",
    "    # forward the system for one step\n",
    "    x[:, t] = x[:, t - 1] + dt * dyn(t * dt, x[:, t - 1], u[:, t - 1])\n",
    "    u[:, t] = 0\n",
    "\n",
    "def plot_state_control(x, u):\n",
    "    plt.rcParams['figure.dpi'] = 100\n",
    "    fig, axs = plt.subplots(2, figsize=(10, 6))\n",
    "    fig.suptitle('State and control')\n",
    "    axs[0].plot(tspan[1:], x[0, :], \"b-\", linewidth=1.0, label=\"State $x_1(t)$\")\n",
    "    axs[0].plot(tspan[1:], x[1, :], \"g-\", linewidth=1.0, label=\"State $x_2(t)$\")\n",
    "    axs[0].legend(loc=\"best\", fontsize=12, shadow=True)\n",
    "    axs[0].grid()\n",
    "\n",
    "    axs[1].plot(tspan[1:], u.reshape(-1), \"r-\", linewidth=1.0, label=\"Control $u(t)$\")\n",
    "    axs[1].legend(loc=\"best\", fontsize=12, shadow=True)\n",
    "    axs[1].grid()\n",
    "    axs[1].set_xlabel(\"Time\", fontsize=12)\n",
    "\n",
    "plot_state_control(x, u)"
   ]
  },
  {
   "cell_type": "code",
   "execution_count": 7,
   "metadata": {
    "ExecuteTime": {
     "end_time": "2022-10-20T17:33:21.322033Z",
     "start_time": "2022-10-20T17:33:21.227637Z"
    }
   },
   "outputs": [
    {
     "ename": "ControlSlycot",
     "evalue": "can't find slycot module 'sb02md' or 'sb02nt'",
     "output_type": "error",
     "traceback": [
      "\u001b[0;31m---------------------------------------------------------------------------\u001b[0m",
      "\u001b[0;31mImportError\u001b[0m                               Traceback (most recent call last)",
      "\u001b[0;32m~/opt/anaconda3/lib/python3.8/site-packages/control/statefbk.py\u001b[0m in \u001b[0;36mlqr\u001b[0;34m(*args, **keywords)\u001b[0m\n\u001b[1;32m    422\u001b[0m     \u001b[0;32mtry\u001b[0m\u001b[0;34m:\u001b[0m\u001b[0;34m\u001b[0m\u001b[0;34m\u001b[0m\u001b[0m\n\u001b[0;32m--> 423\u001b[0;31m         \u001b[0;32mfrom\u001b[0m \u001b[0mslycot\u001b[0m \u001b[0;32mimport\u001b[0m \u001b[0msb02md\u001b[0m\u001b[0;34m\u001b[0m\u001b[0;34m\u001b[0m\u001b[0m\n\u001b[0m\u001b[1;32m    424\u001b[0m         \u001b[0;32mfrom\u001b[0m \u001b[0mslycot\u001b[0m \u001b[0;32mimport\u001b[0m \u001b[0msb02mt\u001b[0m\u001b[0;34m\u001b[0m\u001b[0;34m\u001b[0m\u001b[0m\n",
      "\u001b[0;32m~/opt/anaconda3/lib/python3.8/site-packages/slycot/__init__.py\u001b[0m in \u001b[0;36m<module>\u001b[0;34m\u001b[0m\n\u001b[1;32m     15\u001b[0m     \u001b[0;31m# Analysis routines (15/40 wrapped)\u001b[0m\u001b[0;34m\u001b[0m\u001b[0;34m\u001b[0m\u001b[0;34m\u001b[0m\u001b[0m\n\u001b[0;32m---> 16\u001b[0;31m     \u001b[0;32mfrom\u001b[0m \u001b[0;34m.\u001b[0m\u001b[0manalysis\u001b[0m \u001b[0;32mimport\u001b[0m \u001b[0mab01nd\u001b[0m\u001b[0;34m,\u001b[0m \u001b[0mab05md\u001b[0m\u001b[0;34m,\u001b[0m \u001b[0mab05nd\u001b[0m\u001b[0;34m,\u001b[0m \u001b[0mab07nd\u001b[0m\u001b[0;34m,\u001b[0m \u001b[0mab08nd\u001b[0m\u001b[0;34m,\u001b[0m \u001b[0mab08nz\u001b[0m\u001b[0;34m\u001b[0m\u001b[0;34m\u001b[0m\u001b[0m\n\u001b[0m\u001b[1;32m     17\u001b[0m     \u001b[0;32mfrom\u001b[0m \u001b[0;34m.\u001b[0m\u001b[0manalysis\u001b[0m \u001b[0;32mimport\u001b[0m \u001b[0mab09ad\u001b[0m\u001b[0;34m,\u001b[0m \u001b[0mab09ax\u001b[0m\u001b[0;34m,\u001b[0m \u001b[0mab09bd\u001b[0m\u001b[0;34m,\u001b[0m \u001b[0mab09md\u001b[0m\u001b[0;34m,\u001b[0m \u001b[0mab09nd\u001b[0m\u001b[0;34m\u001b[0m\u001b[0;34m\u001b[0m\u001b[0m\n",
      "\u001b[0;32m~/opt/anaconda3/lib/python3.8/site-packages/slycot/analysis.py\u001b[0m in \u001b[0;36m<module>\u001b[0;34m\u001b[0m\n\u001b[1;32m     19\u001b[0m \u001b[0;34m\u001b[0m\u001b[0m\n\u001b[0;32m---> 20\u001b[0;31m \u001b[0;32mfrom\u001b[0m \u001b[0;34m.\u001b[0m \u001b[0;32mimport\u001b[0m \u001b[0m_wrapper\u001b[0m\u001b[0;34m\u001b[0m\u001b[0;34m\u001b[0m\u001b[0m\n\u001b[0m\u001b[1;32m     21\u001b[0m \u001b[0;32mfrom\u001b[0m \u001b[0;34m.\u001b[0m\u001b[0mexceptions\u001b[0m \u001b[0;32mimport\u001b[0m \u001b[0mraise_if_slycot_error\u001b[0m\u001b[0;34m,\u001b[0m \u001b[0mSlycotParameterError\u001b[0m\u001b[0;34m\u001b[0m\u001b[0;34m\u001b[0m\u001b[0m\n",
      "\u001b[0;31mImportError\u001b[0m: dlopen(/Users/haozhang/opt/anaconda3/lib/python3.8/site-packages/slycot/_wrapper.cpython-38-darwin.so, 2): Library not loaded: /usr/local/opt/gcc/lib/gcc/8/libgfortran.5.dylib\n  Referenced from: /Users/haozhang/opt/anaconda3/lib/python3.8/site-packages/slycot/_wrapper.cpython-38-darwin.so\n  Reason: image not found",
      "\nDuring handling of the above exception, another exception occurred:\n",
      "\u001b[0;31mControlSlycot\u001b[0m                             Traceback (most recent call last)",
      "\u001b[0;32m<ipython-input-7-d3dc9c8b3018>\u001b[0m in \u001b[0;36m<module>\u001b[0;34m\u001b[0m\n\u001b[1;32m     15\u001b[0m         \u001b[0;31m# get LQR gain, output = state\u001b[0m\u001b[0;34m\u001b[0m\u001b[0;34m\u001b[0m\u001b[0;34m\u001b[0m\u001b[0m\n\u001b[1;32m     16\u001b[0m         \u001b[0msys\u001b[0m \u001b[0;34m=\u001b[0m \u001b[0mStateSpace\u001b[0m\u001b[0;34m(\u001b[0m\u001b[0mAc\u001b[0m\u001b[0;34m,\u001b[0m \u001b[0mBc\u001b[0m\u001b[0;34m,\u001b[0m \u001b[0mC\u001b[0m\u001b[0;34m,\u001b[0m \u001b[0mD\u001b[0m\u001b[0;34m,\u001b[0m \u001b[0mdt\u001b[0m\u001b[0;34m=\u001b[0m\u001b[0;36m0\u001b[0m\u001b[0;34m)\u001b[0m\u001b[0;34m\u001b[0m\u001b[0;34m\u001b[0m\u001b[0m\n\u001b[0;32m---> 17\u001b[0;31m         \u001b[0mK\u001b[0m\u001b[0;34m,\u001b[0m \u001b[0mS\u001b[0m\u001b[0;34m,\u001b[0m \u001b[0mE\u001b[0m \u001b[0;34m=\u001b[0m \u001b[0mlqr\u001b[0m\u001b[0;34m(\u001b[0m\u001b[0msys\u001b[0m\u001b[0;34m,\u001b[0m \u001b[0mnp\u001b[0m\u001b[0;34m.\u001b[0m\u001b[0meye\u001b[0m\u001b[0;34m(\u001b[0m\u001b[0mn\u001b[0m\u001b[0;34m)\u001b[0m\u001b[0;34m,\u001b[0m \u001b[0mnp\u001b[0m\u001b[0;34m.\u001b[0m\u001b[0meye\u001b[0m\u001b[0;34m(\u001b[0m\u001b[0mk\u001b[0m\u001b[0;34m)\u001b[0m\u001b[0;34m)\u001b[0m\u001b[0;34m\u001b[0m\u001b[0;34m\u001b[0m\u001b[0m\n\u001b[0m\u001b[1;32m     18\u001b[0m         \u001b[0;31m# apply control\u001b[0m\u001b[0;34m\u001b[0m\u001b[0;34m\u001b[0m\u001b[0;34m\u001b[0m\u001b[0m\n\u001b[1;32m     19\u001b[0m         \u001b[0mu\u001b[0m\u001b[0;34m[\u001b[0m\u001b[0;34m:\u001b[0m\u001b[0;34m,\u001b[0m \u001b[0mt\u001b[0m\u001b[0;34m]\u001b[0m \u001b[0;34m=\u001b[0m \u001b[0;34m-\u001b[0m\u001b[0;36m1.0\u001b[0m \u001b[0;34m*\u001b[0m \u001b[0mK\u001b[0m\u001b[0;34m.\u001b[0m\u001b[0mdot\u001b[0m\u001b[0;34m(\u001b[0m\u001b[0mx\u001b[0m\u001b[0;34m[\u001b[0m\u001b[0;34m:\u001b[0m\u001b[0;34m,\u001b[0m \u001b[0mt\u001b[0m\u001b[0;34m]\u001b[0m\u001b[0;34m)\u001b[0m\u001b[0;34m\u001b[0m\u001b[0;34m\u001b[0m\u001b[0m\n",
      "\u001b[0;32m~/opt/anaconda3/lib/python3.8/site-packages/control/statefbk.py\u001b[0m in \u001b[0;36mlqr\u001b[0;34m(*args, **keywords)\u001b[0m\n\u001b[1;32m    424\u001b[0m         \u001b[0;32mfrom\u001b[0m \u001b[0mslycot\u001b[0m \u001b[0;32mimport\u001b[0m \u001b[0msb02mt\u001b[0m\u001b[0;34m\u001b[0m\u001b[0;34m\u001b[0m\u001b[0m\n\u001b[1;32m    425\u001b[0m     \u001b[0;32mexcept\u001b[0m \u001b[0mImportError\u001b[0m\u001b[0;34m:\u001b[0m\u001b[0;34m\u001b[0m\u001b[0;34m\u001b[0m\u001b[0m\n\u001b[0;32m--> 426\u001b[0;31m         \u001b[0;32mraise\u001b[0m \u001b[0mControlSlycot\u001b[0m\u001b[0;34m(\u001b[0m\u001b[0;34m\"can't find slycot module 'sb02md' or 'sb02nt'\"\u001b[0m\u001b[0;34m)\u001b[0m\u001b[0;34m\u001b[0m\u001b[0;34m\u001b[0m\u001b[0m\n\u001b[0m\u001b[1;32m    427\u001b[0m \u001b[0;34m\u001b[0m\u001b[0m\n\u001b[1;32m    428\u001b[0m     \u001b[0;31m#\u001b[0m\u001b[0;34m\u001b[0m\u001b[0;34m\u001b[0m\u001b[0;34m\u001b[0m\u001b[0m\n",
      "\u001b[0;31mControlSlycot\u001b[0m: can't find slycot module 'sb02md' or 'sb02nt'"
     ]
    }
   ],
   "source": [
    "# control system simulation\n",
    "# initial condition, state and control\n",
    "x[:, 0] = np.array([1, 0])\n",
    "u[:, 0] = 0\n",
    "for t in range(1, T):\n",
    "    # forward the system for one step\n",
    "    x[:, t] = x[:, t - 1] + dt * dyn(t * dt, x[:, t - 1], u[:, t - 1])\n",
    "    # use new measurement to update online system identification\n",
    "    olm.update(x[:, t - 1], u[:, t - 1], x[:, t])\n",
    "    # apply control if we have collected enough data\n",
    "    if t > 4 * max(n, n + k):\n",
    "        # convert to continuous representation\n",
    "        Ac = (olm.A - np.eye(n)) / dt\n",
    "        Bc = olm.B / dt\n",
    "        # get LQR gain, output = state\n",
    "        sys = StateSpace(Ac, Bc, C, D, dt=0)\n",
    "        K, S, E = lqr(sys, np.eye(n), np.eye(k))\n",
    "        # apply control\n",
    "        u[:, t] = -1.0 * K.dot(x[:, t])\n",
    "        # clip control\n",
    "        u[:, t] = np.clip(u[:, t], -10, 10)\n",
    "        # smooth control\n",
    "        w = 0.5\n",
    "        u[:, t] = (1 - w) * u[:, t - 1] + w * u[:, t]\n",
    "        # show progress\n",
    "        if t % 100 == 0:\n",
    "          print(f\"x(t)={x[:, t]}\")\n",
    "          print(f\"u(t)={u[:, t]}\")\n",
    "          print(f\"Ac={Ac}\")\n",
    "          print(f\"Bc={Bc}\")\n",
    "          print(f\"K={K}\")\n",
    "    # random small perturbation if not enough data yet\n",
    "    else:\n",
    "        u[:, t] = 1e-1 * np.random.randn()\n",
    "\n",
    "plot_state_control(x, u)"
   ]
  }
 ],
 "metadata": {
  "kernelspec": {
   "display_name": "Python 3",
   "language": "python",
   "name": "python3"
  },
  "language_info": {
   "codemirror_mode": {
    "name": "ipython",
    "version": 3
   },
   "file_extension": ".py",
   "mimetype": "text/x-python",
   "name": "python",
   "nbconvert_exporter": "python",
   "pygments_lexer": "ipython3",
   "version": "3.8.5"
  },
  "toc": {
   "base_numbering": 1,
   "nav_menu": {},
   "number_sections": true,
   "sideBar": true,
   "skip_h1_title": false,
   "title_cell": "Table of Contents",
   "title_sidebar": "Contents",
   "toc_cell": false,
   "toc_position": {},
   "toc_section_display": true,
   "toc_window_display": false
  },
  "varInspector": {
   "cols": {
    "lenName": 16,
    "lenType": 16,
    "lenVar": 40
   },
   "kernels_config": {
    "python": {
     "delete_cmd_postfix": "",
     "delete_cmd_prefix": "del ",
     "library": "var_list.py",
     "varRefreshCmd": "print(var_dic_list())"
    },
    "r": {
     "delete_cmd_postfix": ") ",
     "delete_cmd_prefix": "rm(",
     "library": "var_list.r",
     "varRefreshCmd": "cat(var_dic_list()) "
    }
   },
   "types_to_exclude": [
    "module",
    "function",
    "builtin_function_or_method",
    "instance",
    "_Feature"
   ],
   "window_display": false
  }
 },
 "nbformat": 4,
 "nbformat_minor": 4
}
