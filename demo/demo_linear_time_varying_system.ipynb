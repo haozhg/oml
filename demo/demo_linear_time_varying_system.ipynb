{
 "cells": [
  {
   "cell_type": "markdown",
   "metadata": {},
   "source": [
    "\"\"\"\n",
    "An example to demonstrate online linear system identification\n",
    "\n",
    "We demonstrate the use of OnlineLinearModel class with a simple linear system.\n",
    "Take a 2D time-varying system dx/dt=A(t)x(t)+B(t)u(t), where A(t) and B(t)\n",
    "are slowly varying with time. In particular, we take A(t)=(1+eps\\*t)\\*A,\n",
    "B(t)=(1+eps\\*t)\\*B, and eps = 0.1 is small. It is discretize with\n",
    "time step dt = 0.1. Denote the discrete system as x(k+1)=A(k)x(k)+\n",
    "B(k)u(k).\n",
    "\n",
    "At time step t+1, we need to include new snapshot pair x(t), u(t), x(t+1).\n",
    "We would like to update the adaptive model in real-time\n",
    "\n",
    "Authors: \n",
    "Hao Zhang\n",
    "\n",
    "References:\n",
    "Zhang, Hao, Clarence W. Rowley, Eric A. Deem, and Louis N. Cattafesta.\n",
    "\"Online dynamic mode decomposition for time-varying systems.\"\n",
    "SIAM Journal on Applied Dynamical Systems 18, no. 3 (2019): 1586-1609.\n",
    "\n",
    "Created:\n",
    "June 2017.\n",
    "\"\"\""
   ]
  },
  {
   "cell_type": "code",
   "execution_count": 7,
   "metadata": {
    "ExecuteTime": {
     "end_time": "2022-10-20T22:53:15.751498Z",
     "start_time": "2022-10-20T22:53:15.587128Z"
    }
   },
   "outputs": [
    {
     "name": "stdout",
     "output_type": "stream",
     "text": [
      "/Users/haozhang/python-venvs/oml-reorg/bin/python: Mach-O 64-bit executable x86_64\r\n"
     ]
    }
   ],
   "source": [
    "!file $(which python)"
   ]
  },
  {
   "cell_type": "code",
   "execution_count": 8,
   "metadata": {
    "ExecuteTime": {
     "end_time": "2022-10-20T22:53:16.348831Z",
     "start_time": "2022-10-20T22:53:16.199174Z"
    }
   },
   "outputs": [
    {
     "name": "stdout",
     "output_type": "stream",
     "text": [
      "Python 3.8.5\r\n"
     ]
    }
   ],
   "source": [
    "!python --version"
   ]
  },
  {
   "cell_type": "code",
   "execution_count": 9,
   "metadata": {
    "ExecuteTime": {
     "end_time": "2022-10-20T22:53:18.233275Z",
     "start_time": "2022-10-20T22:53:17.151364Z"
    }
   },
   "outputs": [],
   "source": [
    "!python -m pip install -Uqqq pip setuptools wheel"
   ]
  },
  {
   "cell_type": "code",
   "execution_count": 15,
   "metadata": {
    "ExecuteTime": {
     "end_time": "2022-10-20T22:54:18.035936Z",
     "start_time": "2022-10-20T22:54:17.896542Z"
    }
   },
   "outputs": [
    {
     "name": "stdout",
     "output_type": "stream",
     "text": [
      "README.md                             demo_lorenz.ipynb\r\n",
      "demo_linear_time_varying_system.ipynb requirements.txt\r\n"
     ]
    }
   ],
   "source": [
    "!ls"
   ]
  },
  {
   "cell_type": "code",
   "execution_count": 16,
   "metadata": {
    "ExecuteTime": {
     "end_time": "2022-10-20T22:54:24.872985Z",
     "start_time": "2022-10-20T22:54:24.732583Z"
    }
   },
   "outputs": [
    {
     "name": "stdout",
     "output_type": "stream",
     "text": [
      "ai4sci.oml\r\n",
      "numpy\r\n",
      "scipy\r\n",
      "matplotlib\r\n",
      "control\r\n",
      "slycot"
     ]
    }
   ],
   "source": [
    "!cat requirements.txt"
   ]
  },
  {
   "cell_type": "code",
   "execution_count": 17,
   "metadata": {
    "ExecuteTime": {
     "end_time": "2022-10-20T22:54:26.445102Z",
     "start_time": "2022-10-20T22:54:25.697720Z"
    }
   },
   "outputs": [
    {
     "name": "stdout",
     "output_type": "stream",
     "text": [
      "Requirement already satisfied: ai4sci.oml in /Users/haozhang/Local/open-source/oml (from -r requirements.txt (line 1)) (0.2.2)\n",
      "Requirement already satisfied: numpy in /Users/haozhang/python-venvs/oml-reorg/lib/python3.8/site-packages (from -r requirements.txt (line 2)) (1.23.4)\n",
      "Requirement already satisfied: scipy in /Users/haozhang/python-venvs/oml-reorg/lib/python3.8/site-packages (from -r requirements.txt (line 3)) (1.9.3)\n",
      "Requirement already satisfied: matplotlib in /Users/haozhang/python-venvs/oml-reorg/lib/python3.8/site-packages (from -r requirements.txt (line 4)) (3.6.1)\n",
      "Requirement already satisfied: control in /Users/haozhang/python-venvs/oml-reorg/lib/python3.8/site-packages (from -r requirements.txt (line 5)) (0.9.2)\n",
      "Requirement already satisfied: slycot in /Users/haozhang/python-venvs/oml-reorg/lib/python3.8/site-packages (from -r requirements.txt (line 6)) (0.5.0)\n",
      "Requirement already satisfied: python-dateutil>=2.7 in /Users/haozhang/python-venvs/oml-reorg/lib/python3.8/site-packages (from matplotlib->-r requirements.txt (line 4)) (2.8.2)\n",
      "Requirement already satisfied: pyparsing>=2.2.1 in /Users/haozhang/python-venvs/oml-reorg/lib/python3.8/site-packages (from matplotlib->-r requirements.txt (line 4)) (3.0.9)\n",
      "Requirement already satisfied: cycler>=0.10 in /Users/haozhang/python-venvs/oml-reorg/lib/python3.8/site-packages (from matplotlib->-r requirements.txt (line 4)) (0.11.0)\n",
      "Requirement already satisfied: pillow>=6.2.0 in /Users/haozhang/python-venvs/oml-reorg/lib/python3.8/site-packages (from matplotlib->-r requirements.txt (line 4)) (9.2.0)\n",
      "Requirement already satisfied: kiwisolver>=1.0.1 in /Users/haozhang/python-venvs/oml-reorg/lib/python3.8/site-packages (from matplotlib->-r requirements.txt (line 4)) (1.4.4)\n",
      "Requirement already satisfied: fonttools>=4.22.0 in /Users/haozhang/python-venvs/oml-reorg/lib/python3.8/site-packages (from matplotlib->-r requirements.txt (line 4)) (4.37.4)\n",
      "Requirement already satisfied: packaging>=20.0 in /Users/haozhang/python-venvs/oml-reorg/lib/python3.8/site-packages (from matplotlib->-r requirements.txt (line 4)) (21.3)\n",
      "Requirement already satisfied: contourpy>=1.0.1 in /Users/haozhang/python-venvs/oml-reorg/lib/python3.8/site-packages (from matplotlib->-r requirements.txt (line 4)) (1.0.5)\n",
      "Requirement already satisfied: six>=1.5 in /Users/haozhang/python-venvs/oml-reorg/lib/python3.8/site-packages (from python-dateutil>=2.7->matplotlib->-r requirements.txt (line 4)) (1.16.0)\n"
     ]
    }
   ],
   "source": [
    "!python -m pip install -r requirements.txt"
   ]
  },
  {
   "cell_type": "code",
   "execution_count": 11,
   "metadata": {
    "ExecuteTime": {
     "end_time": "2022-10-20T22:53:21.040240Z",
     "start_time": "2022-10-20T22:53:20.535533Z"
    }
   },
   "outputs": [
    {
     "name": "stdout",
     "output_type": "stream",
     "text": [
      "ai4sci.oml         0.2.2     /Users/haozhang/Local/open-source/oml\r\n"
     ]
    }
   ],
   "source": [
    "!pip list | grep ai4sci.oml"
   ]
  },
  {
   "cell_type": "code",
   "execution_count": 13,
   "metadata": {
    "ExecuteTime": {
     "end_time": "2022-10-20T22:53:39.169234Z",
     "start_time": "2022-10-20T22:53:39.139049Z"
    }
   },
   "outputs": [
    {
     "ename": "ModuleNotFoundError",
     "evalue": "No module named 'ai4sci'",
     "output_type": "error",
     "traceback": [
      "\u001b[0;31m---------------------------------------------------------------------------\u001b[0m",
      "\u001b[0;31mModuleNotFoundError\u001b[0m                       Traceback (most recent call last)",
      "\u001b[0;32m<ipython-input-13-9d64e41fa0dd>\u001b[0m in \u001b[0;36m<module>\u001b[0;34m\u001b[0m\n\u001b[1;32m     27\u001b[0m \u001b[0;32mimport\u001b[0m \u001b[0mmatplotlib\u001b[0m\u001b[0;34m.\u001b[0m\u001b[0mpyplot\u001b[0m \u001b[0;32mas\u001b[0m \u001b[0mplt\u001b[0m\u001b[0;34m\u001b[0m\u001b[0;34m\u001b[0m\u001b[0m\n\u001b[1;32m     28\u001b[0m \u001b[0;32mimport\u001b[0m \u001b[0mnumpy\u001b[0m \u001b[0;32mas\u001b[0m \u001b[0mnp\u001b[0m\u001b[0;34m\u001b[0m\u001b[0;34m\u001b[0m\u001b[0m\n\u001b[0;32m---> 29\u001b[0;31m \u001b[0;32mfrom\u001b[0m \u001b[0mai4sci\u001b[0m\u001b[0;34m.\u001b[0m\u001b[0moml\u001b[0m \u001b[0;32mimport\u001b[0m \u001b[0mOnlineLinearModel\u001b[0m\u001b[0;34m\u001b[0m\u001b[0;34m\u001b[0m\u001b[0m\n\u001b[0m\u001b[1;32m     30\u001b[0m \u001b[0;32mfrom\u001b[0m \u001b[0mcontrol\u001b[0m \u001b[0;32mimport\u001b[0m \u001b[0mlqr\u001b[0m\u001b[0;34m,\u001b[0m \u001b[0mStateSpace\u001b[0m\u001b[0;34m,\u001b[0m \u001b[0mctrb\u001b[0m\u001b[0;34m\u001b[0m\u001b[0;34m\u001b[0m\u001b[0m\n\u001b[1;32m     31\u001b[0m \u001b[0;34m\u001b[0m\u001b[0m\n",
      "\u001b[0;31mModuleNotFoundError\u001b[0m: No module named 'ai4sci'"
     ]
    }
   ],
   "source": [
    "\"\"\"\n",
    "An example to demonstrate online linear system identification\n",
    "\n",
    "We demonstrate the use of OnlineLinearModel class with a simple linear system.\n",
    "Take a 2D time-varying system dx/dt=A(t)x(t)+B(t)u(t), where A(t) and B(t)\n",
    "are slowly varying with time. In particular, we take A(t)=(1+eps*t)*A,\n",
    "B(t)=(1+eps*t)*B, and eps = 0.1 is small. It is discretize with\n",
    "time step dt = 0.02. Denote the discrete system as x(k+1)=A(k)x(k)+\n",
    "B(k)u(k).\n",
    "\n",
    "At time step k+1, we need to include new snapshot pair x(k), u(k), x(k+1).\n",
    "We would like to update the adaptive model in real-time\n",
    "\n",
    "Authors: \n",
    "Hao Zhang\n",
    "\n",
    "References:\n",
    "Zhang, Hao, Clarence W. Rowley, Eric A. Deem, and Louis N. Cattafesta.\n",
    "\"Online dynamic mode decomposition for time-varying systems.\"\n",
    "SIAM Journal on Applied Dynamical Systems 18, no. 3 (2019): 1586-1609.\n",
    "\n",
    "Created:\n",
    "June 2017.\n",
    "\"\"\"\n",
    "\n",
    "import random\n",
    "import matplotlib.pyplot as plt\n",
    "import numpy as np\n",
    "from ai4sci.oml import OnlineLinearModel\n",
    "from control import lqr, StateSpace, ctrb\n",
    "\n",
    "random.seed(20210220)\n",
    "np.random.seed(20210220)\n",
    "\n",
    "# define dynamics, negative damping -> unstable\n",
    "# https://en.wikipedia.org/wiki/Harmonic_oscillator#Damped_harmonic_oscillator\n",
    "n = 2 # state dimension\n",
    "k = 1 # control dimension\n",
    "A = np.array([[0, 1], [-1, 0.2]])\n",
    "B = np.array([[0], [1]])\n",
    "C = np.eye(n)\n",
    "D = np.zeros((n, k))\n",
    "\n",
    "# check poles\n",
    "sys = StateSpace(A, B, np.eye(n), np.zeros((n, k)))\n",
    "print(f\"open loop poles: {sys.pole()}\")\n",
    "\n",
    "# check controllability\n",
    "Ctrb = ctrb(A, B)\n",
    "assert np.linalg.matrix_rank(Ctrb) == n\n",
    "\n",
    "# slowly time-varying dynamics\n",
    "def dyn(t, x, u, epsilon=1e-3):\n",
    "    At = (1 + epsilon * t) * A\n",
    "    Bt = (1 + epsilon * t) * B\n",
    "    dxdt = At.dot(x) + Bt.dot(u)\n",
    "    return dxdt\n",
    "\n",
    "# set up simulation parameter\n",
    "dt = 0.02\n",
    "tmax, tc = 20, 0.5\n",
    "T, kc = int(tmax / dt), int(tc / dt)\n",
    "tspan = np.linspace(0, tmax, T + 1)\n",
    "\n",
    "# online linear system identification setup\n",
    "alpha = 0.01 ** (1.0 / kc) # 99% decay after kc samples\n",
    "olm = OnlineLinearModel(n, k, None, alpha)\n",
    "\n",
    "# store data mtrices\n",
    "x = np.zeros([n, T])\n",
    "u = np.zeros([k, T])\n",
    "\n",
    "# initial condition, state and control\n",
    "x0 = np.array([1, 0])\n",
    "u0 = 0\n",
    "\n",
    "# uncontrolled system\n",
    "x[:, 0] = x0\n",
    "u[:, 0] = u0\n",
    "for t in range(1, T):\n",
    "    # forward the system for one step\n",
    "    x[:, t] = x[:, t - 1] + dt * dyn(t * dt, x[:, t - 1], u[:, t - 1])\n",
    "    u[:, t] = 0\n",
    "\n",
    "def plot_state_control(x, u):\n",
    "    plt.rcParams['figure.dpi'] = 100\n",
    "    fig, axs = plt.subplots(2, figsize=(10, 6))\n",
    "    fig.suptitle('State and control')\n",
    "    axs[0].plot(tspan[1:], x[0, :], \"b-\", linewidth=1.0, label=\"State $x_1(t)$\")\n",
    "    axs[0].plot(tspan[1:], x[1, :], \"g-\", linewidth=1.0, label=\"State $x_2(t)$\")\n",
    "    axs[0].legend(loc=\"best\", fontsize=12, shadow=True)\n",
    "    axs[0].grid()\n",
    "\n",
    "    axs[1].plot(tspan[1:], u.reshape(-1), \"r-\", linewidth=1.0, label=\"Control $u(t)$\")\n",
    "    axs[1].legend(loc=\"best\", fontsize=12, shadow=True)\n",
    "    axs[1].grid()\n",
    "    axs[1].set_xlabel(\"Time\", fontsize=12)\n",
    "\n",
    "plot_state_control(x, u)"
   ]
  },
  {
   "cell_type": "code",
   "execution_count": 14,
   "metadata": {
    "ExecuteTime": {
     "end_time": "2022-10-20T22:53:39.611008Z",
     "start_time": "2022-10-20T22:53:39.581041Z"
    }
   },
   "outputs": [
    {
     "ename": "NameError",
     "evalue": "name 'x' is not defined",
     "output_type": "error",
     "traceback": [
      "\u001b[0;31m---------------------------------------------------------------------------\u001b[0m",
      "\u001b[0;31mNameError\u001b[0m                                 Traceback (most recent call last)",
      "\u001b[0;32m<ipython-input-14-d3dc9c8b3018>\u001b[0m in \u001b[0;36m<module>\u001b[0;34m\u001b[0m\n\u001b[1;32m      1\u001b[0m \u001b[0;31m# control system simulation\u001b[0m\u001b[0;34m\u001b[0m\u001b[0;34m\u001b[0m\u001b[0;34m\u001b[0m\u001b[0m\n\u001b[1;32m      2\u001b[0m \u001b[0;31m# initial condition, state and control\u001b[0m\u001b[0;34m\u001b[0m\u001b[0;34m\u001b[0m\u001b[0;34m\u001b[0m\u001b[0m\n\u001b[0;32m----> 3\u001b[0;31m \u001b[0mx\u001b[0m\u001b[0;34m[\u001b[0m\u001b[0;34m:\u001b[0m\u001b[0;34m,\u001b[0m \u001b[0;36m0\u001b[0m\u001b[0;34m]\u001b[0m \u001b[0;34m=\u001b[0m \u001b[0mnp\u001b[0m\u001b[0;34m.\u001b[0m\u001b[0marray\u001b[0m\u001b[0;34m(\u001b[0m\u001b[0;34m[\u001b[0m\u001b[0;36m1\u001b[0m\u001b[0;34m,\u001b[0m \u001b[0;36m0\u001b[0m\u001b[0;34m]\u001b[0m\u001b[0;34m)\u001b[0m\u001b[0;34m\u001b[0m\u001b[0;34m\u001b[0m\u001b[0m\n\u001b[0m\u001b[1;32m      4\u001b[0m \u001b[0mu\u001b[0m\u001b[0;34m[\u001b[0m\u001b[0;34m:\u001b[0m\u001b[0;34m,\u001b[0m \u001b[0;36m0\u001b[0m\u001b[0;34m]\u001b[0m \u001b[0;34m=\u001b[0m \u001b[0;36m0\u001b[0m\u001b[0;34m\u001b[0m\u001b[0;34m\u001b[0m\u001b[0m\n\u001b[1;32m      5\u001b[0m \u001b[0;32mfor\u001b[0m \u001b[0mt\u001b[0m \u001b[0;32min\u001b[0m \u001b[0mrange\u001b[0m\u001b[0;34m(\u001b[0m\u001b[0;36m1\u001b[0m\u001b[0;34m,\u001b[0m \u001b[0mT\u001b[0m\u001b[0;34m)\u001b[0m\u001b[0;34m:\u001b[0m\u001b[0;34m\u001b[0m\u001b[0;34m\u001b[0m\u001b[0m\n",
      "\u001b[0;31mNameError\u001b[0m: name 'x' is not defined"
     ]
    }
   ],
   "source": [
    "# control system simulation\n",
    "# initial condition, state and control\n",
    "x[:, 0] = np.array([1, 0])\n",
    "u[:, 0] = 0\n",
    "for t in range(1, T):\n",
    "    # forward the system for one step\n",
    "    x[:, t] = x[:, t - 1] + dt * dyn(t * dt, x[:, t - 1], u[:, t - 1])\n",
    "    # use new measurement to update online system identification\n",
    "    olm.update(x[:, t - 1], u[:, t - 1], x[:, t])\n",
    "    # apply control if we have collected enough data\n",
    "    if t > 4 * max(n, n + k):\n",
    "        # convert to continuous representation\n",
    "        Ac = (olm.A - np.eye(n)) / dt\n",
    "        Bc = olm.B / dt\n",
    "        # get LQR gain, output = state\n",
    "        sys = StateSpace(Ac, Bc, C, D, dt=0)\n",
    "        K, S, E = lqr(sys, np.eye(n), np.eye(k))\n",
    "        # apply control\n",
    "        u[:, t] = -1.0 * K.dot(x[:, t])\n",
    "        # clip control\n",
    "        u[:, t] = np.clip(u[:, t], -10, 10)\n",
    "        # smooth control\n",
    "        w = 0.5\n",
    "        u[:, t] = (1 - w) * u[:, t - 1] + w * u[:, t]\n",
    "        # show progress\n",
    "        if t % 100 == 0:\n",
    "          print(f\"x(t)={x[:, t]}\")\n",
    "          print(f\"u(t)={u[:, t]}\")\n",
    "          print(f\"Ac={Ac}\")\n",
    "          print(f\"Bc={Bc}\")\n",
    "          print(f\"K={K}\")\n",
    "    # random small perturbation if not enough data yet\n",
    "    else:\n",
    "        u[:, t] = 1e-1 * np.random.randn()\n",
    "\n",
    "plot_state_control(x, u)"
   ]
  },
  {
   "cell_type": "code",
   "execution_count": null,
   "metadata": {},
   "outputs": [],
   "source": []
  }
 ],
 "metadata": {
  "kernelspec": {
   "display_name": "Python 3",
   "language": "python",
   "name": "python3"
  },
  "language_info": {
   "codemirror_mode": {
    "name": "ipython",
    "version": 3
   },
   "file_extension": ".py",
   "mimetype": "text/x-python",
   "name": "python",
   "nbconvert_exporter": "python",
   "pygments_lexer": "ipython3",
   "version": "3.8.5"
  },
  "toc": {
   "base_numbering": 1,
   "nav_menu": {},
   "number_sections": true,
   "sideBar": true,
   "skip_h1_title": false,
   "title_cell": "Table of Contents",
   "title_sidebar": "Contents",
   "toc_cell": false,
   "toc_position": {},
   "toc_section_display": true,
   "toc_window_display": false
  },
  "varInspector": {
   "cols": {
    "lenName": 16,
    "lenType": 16,
    "lenVar": 40
   },
   "kernels_config": {
    "python": {
     "delete_cmd_postfix": "",
     "delete_cmd_prefix": "del ",
     "library": "var_list.py",
     "varRefreshCmd": "print(var_dic_list())"
    },
    "r": {
     "delete_cmd_postfix": ") ",
     "delete_cmd_prefix": "rm(",
     "library": "var_list.r",
     "varRefreshCmd": "cat(var_dic_list()) "
    }
   },
   "types_to_exclude": [
    "module",
    "function",
    "builtin_function_or_method",
    "instance",
    "_Feature"
   ],
   "window_display": false
  }
 },
 "nbformat": 4,
 "nbformat_minor": 4
}
